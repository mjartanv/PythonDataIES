{
 "cells": [
  {
   "cell_type": "code",
   "execution_count": null,
   "metadata": {},
   "outputs": [],
   "source": [
    "import requests\n",
    "from bs4 import BeautifulSoup\n",
    "from tqdm import tqdm\n",
    "from IES_Downloader import IES_Downloader\n",
    "from IPython.core.debugger import Tracer"
   ]
  },
  {
   "cell_type": "markdown",
   "metadata": {},
   "source": [
    "# Lecture 6 - IES Web scraper\n",
    "\n",
    "by Vítek Macháček\n",
    "\n",
    "March 27th and 28th, 2019\n",
    "\n",
    "* Putting it all together\n",
    "* OOP + Pandas + Requests + BeautifulSoup"
   ]
  },
  {
   "cell_type": "markdown",
   "metadata": {},
   "source": [
    "## Object-oriented Programming\n",
    "* Brief reminder of how objects work\n",
    "\n",
    "### Docstring + Objects + Inheriting + Constructors"
   ]
  },
  {
   "cell_type": "code",
   "execution_count": null,
   "metadata": {},
   "outputs": [],
   "source": [
    "class Parent:\n",
    "    '''\n",
    "    A very brief and helpful description of the Parent class\n",
    "    '''\n",
    "    def __init__(self,arg):\n",
    "        '''\n",
    "        Exact and brief description of parent's constructor\n",
    "        '''\n",
    "        self.attribute = 'x'\n",
    "        self.id = arg\n",
    "        \n",
    "    def parentMethod(self):\n",
    "        '''\n",
    "        Good description of parentMethod\n",
    "        '''\n",
    "        pass\n",
    "    \n",
    "class Child(Parent):\n",
    "    '''\n",
    "    This is what Child is good for\n",
    "    '''\n",
    "    def __init__(self,arg,desc):\n",
    "        '''\n",
    "        Exact and brief description of Child's contructor\n",
    "        '''\n",
    "        super().__init__(arg)\n",
    "        self.desc = desc\n",
    "    \n",
    "    def childMethod(self,arg):\n",
    "        '''\n",
    "        Good description of childMethod\n",
    "        '''\n",
    "        return len(arg)\n",
    "\n",
    "    \n",
    "par = Parent('A parent')\n",
    "ch = Child(999,'A child')\n"
   ]
  },
  {
   "cell_type": "code",
   "execution_count": null,
   "metadata": {},
   "outputs": [],
   "source": []
  },
  {
   "cell_type": "markdown",
   "metadata": {},
   "source": [
    "## Task:\n",
    "* A parser of IES websites with following features:\n",
    "    * All info about people from [Internal faculty](http://ies.fsv.cuni.cz/en/node/48), [External lecturers](http://ies.fsv.cuni.cz/en/node/49), [Ph.D. candidates](http://ies.fsv.cuni.cz/en/node/51) and [Administration](http://ies.fsv.cuni.cz/en/node/50)\n",
    "    * All info about [all](http://ies.fsv.cuni.cz/en/node/109) theses between 1994 and 2019\n",
    "    * Also all courses! But no list of courses available ..."
   ]
  },
  {
   "cell_type": "code",
   "execution_count": null,
   "metadata": {},
   "outputs": [],
   "source": []
  },
  {
   "cell_type": "markdown",
   "metadata": {},
   "source": [
    "### Robots.txt\n",
    "\n",
    "* Is it OK to scrape?\n",
    "* Guidance for search engines etc.\n"
   ]
  },
  {
   "cell_type": "code",
   "execution_count": null,
   "metadata": {},
   "outputs": [],
   "source": [
    "requests.get('http://ies.fsv.cuni.cz/robots.txt')"
   ]
  },
  {
   "cell_type": "code",
   "execution_count": null,
   "metadata": {},
   "outputs": [],
   "source": [
    "print(requests.get('http://sreality.cz/robots.txt').text)"
   ]
  },
  {
   "cell_type": "markdown",
   "metadata": {},
   "source": [
    "## Pages\n",
    "\n",
    "### Find all persons?\n",
    "[Current faculty](http://ies.fsv.cuni.cz/en/node/48)"
   ]
  },
  {
   "cell_type": "code",
   "execution_count": null,
   "metadata": {},
   "outputs": [],
   "source": [
    "def getSoup(link):\n",
    "    r = requests.get(link)\n",
    "    r.encoding = 'UTF-8'\n",
    "    return BeautifulSoup(r.text,'lxml')"
   ]
  },
  {
   "cell_type": "code",
   "execution_count": null,
   "metadata": {},
   "outputs": [],
   "source": [
    "def getAllLinks(link):\n",
    "    soup = getSoup(link)\n",
    "    #Tracer()()\n",
    "    pass\n",
    "\n",
    "personLinks = getAllLinks('http://ies.fsv.cuni.cz/en/node/48')"
   ]
  },
  {
   "cell_type": "markdown",
   "metadata": {},
   "source": [
    "## Person's characteristics?"
   ]
  },
  {
   "cell_type": "code",
   "execution_count": null,
   "metadata": {},
   "outputs": [],
   "source": [
    "def getName(link):\n",
    "    pass"
   ]
  },
  {
   "cell_type": "code",
   "execution_count": null,
   "metadata": {},
   "outputs": [],
   "source": [
    "def getID(link):\n",
    "    pass"
   ]
  },
  {
   "cell_type": "code",
   "execution_count": null,
   "metadata": {},
   "outputs": [],
   "source": [
    "def getOneCharacteristic(link,characteristic):\n",
    "    pass"
   ]
  },
  {
   "cell_type": "code",
   "execution_count": null,
   "metadata": {},
   "outputs": [],
   "source": [
    "def getAnotherCharacteristic(link,characteristic):\n",
    "    pass"
   ]
  },
  {
   "cell_type": "markdown",
   "metadata": {},
   "source": [
    "* Let's do an object!"
   ]
  },
  {
   "cell_type": "code",
   "execution_count": null,
   "metadata": {},
   "outputs": [],
   "source": [
    "class Person:\n",
    "    def __init__(self,link):\n",
    "        pass\n",
    "\n",
    "persons = []\n",
    "for p in personLinks:\n",
    "    persons.append(Person(p))"
   ]
  },
  {
   "cell_type": "markdown",
   "metadata": {},
   "source": [
    "## Thesis characteristics?"
   ]
  },
  {
   "cell_type": "code",
   "execution_count": null,
   "metadata": {},
   "outputs": [],
   "source": [
    "dl = IES_Downloader(allowLog=False)\n",
    "dl.getThesesLinksForCategory('http://ies.fsv.cuni.cz/en/node/270/','Doctoral')\n",
    "thesesLinks = dl.links['theses']['Doctoral']"
   ]
  },
  {
   "cell_type": "code",
   "execution_count": null,
   "metadata": {},
   "outputs": [],
   "source": []
  },
  {
   "cell_type": "code",
   "execution_count": null,
   "metadata": {},
   "outputs": [],
   "source": [
    "class Thesis:\n",
    "    def __init__(self,link):\n",
    "        pass\n",
    "\n",
    "theses = []\n",
    "for t in tqdm(thesesLinks):\n",
    "    theses.append(Thesis(t))"
   ]
  },
  {
   "cell_type": "code",
   "execution_count": null,
   "metadata": {},
   "outputs": [],
   "source": []
  },
  {
   "cell_type": "markdown",
   "metadata": {},
   "source": [
    "* We are lazy programmers!"
   ]
  },
  {
   "cell_type": "code",
   "execution_count": null,
   "metadata": {},
   "outputs": [],
   "source": [
    "class Parent:\n",
    "    pass\n",
    "\n",
    "class Thesis(Parent):\n",
    "    pass\n",
    "\n",
    "class Person(Parent):\n",
    "    pass"
   ]
  },
  {
   "cell_type": "markdown",
   "metadata": {},
   "source": [
    "See **IES_Pages.py**"
   ]
  },
  {
   "cell_type": "markdown",
   "metadata": {},
   "source": [
    "### Last object missing"
   ]
  },
  {
   "cell_type": "code",
   "execution_count": null,
   "metadata": {},
   "outputs": [],
   "source": []
  },
  {
   "cell_type": "markdown",
   "metadata": {},
   "source": [
    "see **IES_Downloader.py**"
   ]
  },
  {
   "cell_type": "markdown",
   "metadata": {},
   "source": [
    "# Object Structure"
   ]
  },
  {
   "cell_type": "code",
   "execution_count": null,
   "metadata": {},
   "outputs": [],
   "source": []
  },
  {
   "cell_type": "code",
   "execution_count": null,
   "metadata": {},
   "outputs": [],
   "source": []
  },
  {
   "cell_type": "code",
   "execution_count": null,
   "metadata": {},
   "outputs": [],
   "source": []
  },
  {
   "cell_type": "code",
   "execution_count": null,
   "metadata": {},
   "outputs": [],
   "source": []
  },
  {
   "cell_type": "code",
   "execution_count": null,
   "metadata": {},
   "outputs": [],
   "source": []
  }
 ],
 "metadata": {
  "kernelspec": {
   "display_name": "Python 3",
   "language": "python",
   "name": "python3"
  },
  "language_info": {
   "codemirror_mode": {
    "name": "ipython",
    "version": 3
   },
   "file_extension": ".py",
   "mimetype": "text/x-python",
   "name": "python",
   "nbconvert_exporter": "python",
   "pygments_lexer": "ipython3",
   "version": "3.7.1"
  }
 },
 "nbformat": 4,
 "nbformat_minor": 2
}
