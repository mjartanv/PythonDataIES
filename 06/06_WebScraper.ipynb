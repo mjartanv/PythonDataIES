{
 "cells": [
  {
   "cell_type": "code",
   "execution_count": 1,
   "metadata": {},
   "outputs": [],
   "source": [
    "#!pip install tqdm\n",
    "from IES_Downloader import IES_Downloader\n",
    "import pandas as pd"
   ]
  },
  {
   "cell_type": "code",
   "execution_count": 2,
   "metadata": {},
   "outputs": [
    {
     "name": "stdout",
     "output_type": "stream",
     "text": [
      "Succesfully initialized IES Downloader\n",
      "Searching for Person-links of Current faculty on http://ies.fsv.cuni.cz/en/node/48 ...\n",
      "Found 50 Person-links for Current faculty\n",
      "Searching for Person-links of External lecturers on http://ies.fsv.cuni.cz/en/node/49 ...\n",
      "Found 77 Person-links for External lecturers\n",
      "Searching for Person-links of Ph.D. candidates on http://ies.fsv.cuni.cz/en/node/51 ...\n",
      "Found 79 Person-links for Ph.D. candidates\n",
      "Searching for Person-links of Administration on http://ies.fsv.cuni.cz/en/node/50 ...\n",
      "Found 8 Person-links for Administration\n",
      "Searching for theses-links of Masters on http://ies.fsv.cuni.cz/en/node/112/ ...\n",
      "Found 1246 Theses-links for Masters\n",
      "Searching for theses-links of Bachelors on http://ies.fsv.cuni.cz/en/node/111/ ...\n",
      "Found 1110 Theses-links for Bachelors\n",
      "Searching for theses-links of Rigorosis on http://ies.fsv.cuni.cz/en/node/113/ ...\n",
      "Found 191 Theses-links for Rigorosis\n",
      "Searching for theses-links of Doctoral on http://ies.fsv.cuni.cz/en/node/270/ ...\n"
     ]
    },
    {
     "name": "stderr",
     "output_type": "stream",
     "text": [
      "Current faculty:   0%|          | 0/50 [00:00<?, ?it/s]"
     ]
    },
    {
     "name": "stdout",
     "output_type": "stream",
     "text": [
      "Found 83 Theses-links for Doctoral\n",
      "Downloading all 214 persons ...\n"
     ]
    },
    {
     "name": "stderr",
     "output_type": "stream",
     "text": [
      "Current faculty: 100%|██████████| 50/50 [00:26<00:00,  2.21it/s]\n",
      "External lecturers: 100%|██████████| 77/77 [00:39<00:00,  2.26it/s]\n",
      "Ph.D. candidates: 100%|██████████| 79/79 [00:35<00:00,  2.25it/s]\n",
      "Administration: 100%|██████████| 8/8 [00:03<00:00,  2.23it/s]\n",
      "Courses:   0%|          | 0/159 [00:00<?, ?it/s]"
     ]
    },
    {
     "name": "stdout",
     "output_type": "stream",
     "text": [
      "Succesfully downloaded 214 persons\n",
      "Looking for course links in already downloaded persons  ...\n",
      "Among 214 persons found 159 unique courses\n",
      "Downloading all 159 courses ...\n"
     ]
    },
    {
     "name": "stderr",
     "output_type": "stream",
     "text": [
      "Courses: 100%|██████████| 159/159 [01:07<00:00,  2.38it/s]\n",
      "Masters:   0%|          | 0/1246 [00:00<?, ?it/s]"
     ]
    },
    {
     "name": "stdout",
     "output_type": "stream",
     "text": [
      "Succesfully downloaded 159 courses\n",
      "Downloading all 2630 theses ...\n"
     ]
    },
    {
     "name": "stderr",
     "output_type": "stream",
     "text": [
      "Masters: 100%|██████████| 1246/1246 [09:26<00:00,  2.51it/s]\n",
      "Bachelors: 100%|██████████| 1110/1110 [07:22<00:00,  2.66it/s]\n",
      "Rigorosis: 100%|██████████| 191/191 [01:14<00:00,  2.63it/s]\n",
      "Doctoral: 100%|██████████| 83/83 [00:31<00:00,  2.63it/s]"
     ]
    },
    {
     "name": "stdout",
     "output_type": "stream",
     "text": [
      "Succesfully downloaded 2630 theses\n"
     ]
    },
    {
     "name": "stderr",
     "output_type": "stream",
     "text": [
      "\n"
     ]
    }
   ],
   "source": [
    "#Initialize downloader\n",
    "dl = IES_Downloader()\n",
    "\n",
    "# find all links for people\n",
    "dl.getPeopleLinksForCategory('http://ies.fsv.cuni.cz/en/node/48','Current faculty')\n",
    "dl.getPeopleLinksForCategory('http://ies.fsv.cuni.cz/en/node/49','External lecturers')\n",
    "dl.getPeopleLinksForCategory('http://ies.fsv.cuni.cz/en/node/51','Ph.D. candidates')\n",
    "dl.getPeopleLinksForCategory('http://ies.fsv.cuni.cz/en/node/50','Administration')\n",
    "\n",
    "# find all links for theses \n",
    "dl.getThesesLinksForCategory('http://ies.fsv.cuni.cz/en/node/112/','Masters')\n",
    "dl.getThesesLinksForCategory('http://ies.fsv.cuni.cz/en/node/111/','Bachelors')\n",
    "dl.getThesesLinksForCategory('http://ies.fsv.cuni.cz/en/node/113/','Rigorosis')\n",
    "dl.getThesesLinksForCategory('http://ies.fsv.cuni.cz/en/node/270/','Doctoral')\n",
    "\n",
    "# donload all people from already downloaded links\n",
    "dl.downloadPeople()\n",
    "\n",
    "# find all links on courses from already parsed people\n",
    "dl.getCoursesLinksFromPersons()\n",
    "\n",
    "# download all courses from already downloaded links\n",
    "dl.downloadCourses()\n",
    "\n",
    "# download all theses from already downloaded links\n",
    "dl.downloadTheses()"
   ]
  },
  {
   "cell_type": "code",
   "execution_count": 3,
   "metadata": {},
   "outputs": [],
   "source": [
    "theses = pd.DataFrame([x.characteristics for x in dl.theses])\n",
    "courses = pd.DataFrame([x.characteristics for x in dl.courses])\n",
    "people =  pd.DataFrame([x.characteristics for x in dl.people]) "
   ]
  },
  {
   "cell_type": "code",
   "execution_count": null,
   "metadata": {},
   "outputs": [],
   "source": []
  }
 ],
 "metadata": {
  "kernelspec": {
   "display_name": "Python 3",
   "language": "python",
   "name": "python3"
  },
  "language_info": {
   "codemirror_mode": {
    "name": "ipython",
    "version": 3
   },
   "file_extension": ".py",
   "mimetype": "text/x-python",
   "name": "python",
   "nbconvert_exporter": "python",
   "pygments_lexer": "ipython3",
   "version": "3.7.1"
  }
 },
 "nbformat": 4,
 "nbformat_minor": 2
}
